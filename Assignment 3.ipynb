{
 "cells": [
  {
   "cell_type": "markdown",
   "id": "0df1ef79",
   "metadata": {},
   "source": [
    "# Assignment 3\n",
    "\n",
    "All questions are weighted the same in this assignment. This assignment requires more individual learning then the last one did - you are encouraged to check out the pandas documentation to find functions or methods you might not have used yet, or ask questions on Stack Overflow and tag them as pandas and python related. All questions are worth the same number of points except question 1 which is worth 17% of the assignment grade.\n",
    "\n",
    "**Note**: Questions 3-13 rely on your question 1 answer."
   ]
  },
  {
   "cell_type": "code",
   "execution_count": 1,
   "id": "f8b50944",
   "metadata": {},
   "outputs": [],
   "source": [
    "import pandas as pd\n",
    "import numpy as np\n",
    "\n",
    "# Filter all warnings. If you would like to see the warnings, please comment the two lines below.\n",
    "import warnings\n",
    "warnings.filterwarnings('ignore')"
   ]
  },
  {
   "cell_type": "markdown",
   "id": "020a33fa",
   "metadata": {},
   "source": [
    "## Question 1\n",
    "\n",
    "Load the energy data from the file assets/Energy Indicators.xls, which is a list of indicators of energy supply and renewable electricity production from the United Nations for the year 2013, and should be put into a DataFrame with the variable name of Energy.\n",
    "\n",
    "Keep in mind that this is an Excel file, and not a comma separated values file. Also, make sure to exclude the footer and header information from the datafile. The first two columns are unneccessary, so you should get rid of them, and you should change the column labels so that the columns are:\n",
    "\n",
    "['Country', 'Energy Supply', 'Energy Supply per Capita', '% Renewable]\n",
    "\n",
    "Convert Energy Supply to gigajoules (**Note: there are 1,000,000 gigajoules in a petajoule**). For all countries which have missing data (e.g. data with \"...\") make sure this is reflected as np.NaN values.\n",
    "\n",
    "Rename the following list of countries (for use in later questions):\n",
    "\n",
    "\"Republic of Korea\": \"South Korea\",\n",
    "\"United States of America\": \"United States\",\n",
    "\"United Kingdom of Great Britain and Northern Ireland\": \"United Kingdom\",\n",
    "\"China, Hong Kong Special Administrative Region\": \"Hong Kong\"\n",
    "\n",
    "There are also several countries with numbers and/or parenthesis in their name. Be sure to remove these, e.g. 'Bolivia (Plurinational State of)' should be 'Bolivia'. 'Switzerland17' should be 'Switzerland'.\n",
    "\n",
    "Next, load the GDP data from the file assets/world_bank.csv, which is a csv containing countries' GDP from 1960 to 2015 from World Bank. Call this DataFrame **GDP**.\n",
    "\n",
    "Make sure to skip the header, and rename the following list of countries:\n",
    "\n",
    "\"Korea, Rep.\": \"South Korea\", \n",
    "\"Iran, Islamic Rep.\": \"Iran\",\n",
    "\"Hong Kong SAR, China\": \"Hong Kong\"\n",
    "\n",
    "Finally, load the Sciamgo Journal and Country Rank data for Energy Engineering and Power Technology from the file assets/scimagojr-3.xlsx, which ranks countries based on their journal contributions in the aforementioned area. Call this DataFrame ScimEn.\n",
    "\n",
    "Join the three datasets: GDP, Energy, and ScimEn into a new dataset (using the intersection of country names). Use only the last 10 years (2006-2015) of GDP data and only the top 15 countries by Scimagojr 'Rank' (Rank 1 through 15).\n",
    "\n",
    "The index of this DataFrame should be the name of the country, and the columns should be ['Rank', 'Documents', 'Citable documents', 'Citations', 'Self-citations', 'Citations per document', 'H index', 'Energy Supply', 'Energy Supply per Capita', '% Renewable', '2006', '2007', '2008', '2009', '2010', '2011', '2012', '2013', '2014', '2015'].\n",
    "\n",
    "*This function should return a DataFrame with 20 columns and 15 entries, and the rows of the DataFrame should be sorted by \"Rank\"."
   ]
  },
  {
   "cell_type": "code",
   "execution_count": 2,
   "id": "880eb714",
   "metadata": {},
   "outputs": [],
   "source": [
    "def answer_one():\n",
    "    # YOUR CODE HERE\n",
    "    Energy = pd.read_excel(\"EnergyIndicator.xls\", usecols = \"C:F\",\n",
    "                       names = ['Country', 'Energy Supply', 'Energy Supply per Capita', '% Renewable'])\n",
    "    Energy.drop(Energy.index[0:17],0,inplace=True) #drop header\n",
    "    Energy.drop(Energy.index[227:],0,inplace=True) #drop footer\n",
    "    Energy.replace({'...':np.nan}, inplace= True) #replace empty cells \n",
    "    Energy['Energy Supply'] = Energy['Energy Supply']*1000000 #convert petajoules to gigajoules \n",
    "    import re\n",
    "    Energy['Country'] = Energy['Country'].map(lambda x: re.sub('[0-9]', '', x))#replace numbers \n",
    "    Energy['Country'] = Energy['Country'].map(lambda x: \n",
    "                                          re.sub('(\\s[(])([\\w\\s]+)([)])', '', x))#replace anything in brackets\n",
    "    Energy.replace({\"Republic of Korea\": \"South Korea\", \n",
    "                \"United States of America\": \"United States\", \n",
    "                \"United Kingdom of Great Britain and Northern Ireland\": \n",
    "                \"United Kingdom\", \"China, Hong Kong Special Administrative Region\": \n",
    "                \"Hong Kong\"}, inplace= True)#replace country names \n",
    "    #GDP data \n",
    "    GDP = pd.read_csv('assets.csv', skiprows=4)\n",
    "    GDP.replace({\"Korea, Rep.\": \"South Korea\", \n",
    "           \"Iran, Islamic Rep.\": \"Iran\", \n",
    "           \"Hong Kong SAR, China\": \"Hong Kong\"}, inplace = True)\n",
    "    GDPsub = GDP[['Country Name','2006','2007',\n",
    "                  '2008','2009','2010','2011','2012','2013','2014','2015']] #only years 2006-2015\n",
    "    GDPsub.rename(columns = {\"Country Name\":\"Country\"}, inplace = True)\n",
    "    #Sciamgo Journal and Country Rank data\n",
    "    ScimEn = pd.read_excel(\"scimagojr-3.xlsx\")\n",
    "    #merging Dataframes \n",
    "    EnergyGDP = pd.merge(Energy, GDPsub, how = \"inner\", left_on = \"Country\", right_on = 'Country')\n",
    "    DF = pd.merge(EnergyGDP, ScimEn, how = \"inner\", left_on = \"Country\", right_on = 'Country')\n",
    "    DF = DF[['Country','Rank', 'Documents', 'Citable documents', 'Citations', 'Self-citations', \n",
    "    'Citations per document', 'H index', 'Energy Supply', 'Energy Supply per Capita', '% Renewable', '2006', \n",
    "    '2007', '2008', '2009', '2010', '2011', '2012', '2013', '2014', \n",
    "             '2015']].set_index('Country').sort_values(by='Rank')\n",
    "    Top15 = DF[0:15]\n",
    "    return Top15\n",
    "    #raise NotImplementedError()"
   ]
  },
  {
   "cell_type": "code",
   "execution_count": 3,
   "id": "644282fa",
   "metadata": {},
   "outputs": [
    {
     "data": {
      "text/html": [
       "<div>\n",
       "<style scoped>\n",
       "    .dataframe tbody tr th:only-of-type {\n",
       "        vertical-align: middle;\n",
       "    }\n",
       "\n",
       "    .dataframe tbody tr th {\n",
       "        vertical-align: top;\n",
       "    }\n",
       "\n",
       "    .dataframe thead th {\n",
       "        text-align: right;\n",
       "    }\n",
       "</style>\n",
       "<table border=\"1\" class=\"dataframe\">\n",
       "  <thead>\n",
       "    <tr style=\"text-align: right;\">\n",
       "      <th></th>\n",
       "      <th>Rank</th>\n",
       "      <th>Documents</th>\n",
       "      <th>Citable documents</th>\n",
       "      <th>Citations</th>\n",
       "      <th>Self-citations</th>\n",
       "      <th>Citations per document</th>\n",
       "      <th>H index</th>\n",
       "      <th>Energy Supply</th>\n",
       "      <th>Energy Supply per Capita</th>\n",
       "      <th>% Renewable</th>\n",
       "      <th>2006</th>\n",
       "      <th>2007</th>\n",
       "      <th>2008</th>\n",
       "      <th>2009</th>\n",
       "      <th>2010</th>\n",
       "      <th>2011</th>\n",
       "      <th>2012</th>\n",
       "      <th>2013</th>\n",
       "      <th>2014</th>\n",
       "      <th>2015</th>\n",
       "    </tr>\n",
       "    <tr>\n",
       "      <th>Country</th>\n",
       "      <th></th>\n",
       "      <th></th>\n",
       "      <th></th>\n",
       "      <th></th>\n",
       "      <th></th>\n",
       "      <th></th>\n",
       "      <th></th>\n",
       "      <th></th>\n",
       "      <th></th>\n",
       "      <th></th>\n",
       "      <th></th>\n",
       "      <th></th>\n",
       "      <th></th>\n",
       "      <th></th>\n",
       "      <th></th>\n",
       "      <th></th>\n",
       "      <th></th>\n",
       "      <th></th>\n",
       "      <th></th>\n",
       "      <th></th>\n",
       "    </tr>\n",
       "  </thead>\n",
       "  <tbody>\n",
       "    <tr>\n",
       "      <th>China</th>\n",
       "      <td>1</td>\n",
       "      <td>127050</td>\n",
       "      <td>126767</td>\n",
       "      <td>597237</td>\n",
       "      <td>411683</td>\n",
       "      <td>4.70</td>\n",
       "      <td>138</td>\n",
       "      <td>1.271910e+11</td>\n",
       "      <td>93.0</td>\n",
       "      <td>19.754910</td>\n",
       "      <td>2.752132e+12</td>\n",
       "      <td>3.550343e+12</td>\n",
       "      <td>4.594307e+12</td>\n",
       "      <td>5.101703e+12</td>\n",
       "      <td>6.087164e+12</td>\n",
       "      <td>7.551500e+12</td>\n",
       "      <td>8.532230e+12</td>\n",
       "      <td>9.570406e+12</td>\n",
       "      <td>1.047568e+13</td>\n",
       "      <td>1.106155e+13</td>\n",
       "    </tr>\n",
       "    <tr>\n",
       "      <th>United States</th>\n",
       "      <td>2</td>\n",
       "      <td>96661</td>\n",
       "      <td>94747</td>\n",
       "      <td>792274</td>\n",
       "      <td>265436</td>\n",
       "      <td>8.20</td>\n",
       "      <td>230</td>\n",
       "      <td>9.083800e+10</td>\n",
       "      <td>286.0</td>\n",
       "      <td>11.570980</td>\n",
       "      <td>1.381559e+13</td>\n",
       "      <td>1.447423e+13</td>\n",
       "      <td>1.476986e+13</td>\n",
       "      <td>1.447806e+13</td>\n",
       "      <td>1.504896e+13</td>\n",
       "      <td>1.559973e+13</td>\n",
       "      <td>1.625397e+13</td>\n",
       "      <td>1.684319e+13</td>\n",
       "      <td>1.755068e+13</td>\n",
       "      <td>1.820602e+13</td>\n",
       "    </tr>\n",
       "    <tr>\n",
       "      <th>Japan</th>\n",
       "      <td>3</td>\n",
       "      <td>30504</td>\n",
       "      <td>30287</td>\n",
       "      <td>223024</td>\n",
       "      <td>61554</td>\n",
       "      <td>7.31</td>\n",
       "      <td>134</td>\n",
       "      <td>1.898400e+10</td>\n",
       "      <td>149.0</td>\n",
       "      <td>10.232820</td>\n",
       "      <td>4.601663e+12</td>\n",
       "      <td>4.579751e+12</td>\n",
       "      <td>5.106679e+12</td>\n",
       "      <td>5.289493e+12</td>\n",
       "      <td>5.759072e+12</td>\n",
       "      <td>6.233147e+12</td>\n",
       "      <td>6.272363e+12</td>\n",
       "      <td>5.212328e+12</td>\n",
       "      <td>4.896994e+12</td>\n",
       "      <td>4.444931e+12</td>\n",
       "    </tr>\n",
       "    <tr>\n",
       "      <th>United Kingdom</th>\n",
       "      <td>4</td>\n",
       "      <td>20944</td>\n",
       "      <td>20357</td>\n",
       "      <td>206091</td>\n",
       "      <td>37874</td>\n",
       "      <td>9.84</td>\n",
       "      <td>139</td>\n",
       "      <td>7.920000e+09</td>\n",
       "      <td>124.0</td>\n",
       "      <td>10.600470</td>\n",
       "      <td>2.717060e+12</td>\n",
       "      <td>3.106182e+12</td>\n",
       "      <td>2.938882e+12</td>\n",
       "      <td>2.425798e+12</td>\n",
       "      <td>2.491110e+12</td>\n",
       "      <td>2.674891e+12</td>\n",
       "      <td>2.719158e+12</td>\n",
       "      <td>2.803291e+12</td>\n",
       "      <td>3.087166e+12</td>\n",
       "      <td>2.956574e+12</td>\n",
       "    </tr>\n",
       "    <tr>\n",
       "      <th>Russian Federation</th>\n",
       "      <td>5</td>\n",
       "      <td>18534</td>\n",
       "      <td>18301</td>\n",
       "      <td>34266</td>\n",
       "      <td>12422</td>\n",
       "      <td>1.85</td>\n",
       "      <td>57</td>\n",
       "      <td>3.070900e+10</td>\n",
       "      <td>214.0</td>\n",
       "      <td>17.288680</td>\n",
       "      <td>9.899305e+11</td>\n",
       "      <td>1.299706e+12</td>\n",
       "      <td>1.660846e+12</td>\n",
       "      <td>1.222644e+12</td>\n",
       "      <td>1.524917e+12</td>\n",
       "      <td>2.045926e+12</td>\n",
       "      <td>2.208296e+12</td>\n",
       "      <td>2.292473e+12</td>\n",
       "      <td>2.059242e+12</td>\n",
       "      <td>1.363481e+12</td>\n",
       "    </tr>\n",
       "    <tr>\n",
       "      <th>Canada</th>\n",
       "      <td>6</td>\n",
       "      <td>17899</td>\n",
       "      <td>17620</td>\n",
       "      <td>215003</td>\n",
       "      <td>40930</td>\n",
       "      <td>12.01</td>\n",
       "      <td>149</td>\n",
       "      <td>1.043100e+10</td>\n",
       "      <td>296.0</td>\n",
       "      <td>61.945430</td>\n",
       "      <td>1.319265e+12</td>\n",
       "      <td>1.468820e+12</td>\n",
       "      <td>1.552990e+12</td>\n",
       "      <td>1.374625e+12</td>\n",
       "      <td>1.617343e+12</td>\n",
       "      <td>1.793327e+12</td>\n",
       "      <td>1.828366e+12</td>\n",
       "      <td>1.846597e+12</td>\n",
       "      <td>1.805750e+12</td>\n",
       "      <td>1.556509e+12</td>\n",
       "    </tr>\n",
       "    <tr>\n",
       "      <th>Germany</th>\n",
       "      <td>7</td>\n",
       "      <td>17027</td>\n",
       "      <td>16831</td>\n",
       "      <td>140566</td>\n",
       "      <td>27426</td>\n",
       "      <td>8.26</td>\n",
       "      <td>126</td>\n",
       "      <td>1.326100e+10</td>\n",
       "      <td>165.0</td>\n",
       "      <td>17.901530</td>\n",
       "      <td>2.994704e+12</td>\n",
       "      <td>3.425578e+12</td>\n",
       "      <td>3.745264e+12</td>\n",
       "      <td>3.411261e+12</td>\n",
       "      <td>3.399668e+12</td>\n",
       "      <td>3.749315e+12</td>\n",
       "      <td>3.527143e+12</td>\n",
       "      <td>3.733805e+12</td>\n",
       "      <td>3.889093e+12</td>\n",
       "      <td>3.357586e+12</td>\n",
       "    </tr>\n",
       "    <tr>\n",
       "      <th>India</th>\n",
       "      <td>8</td>\n",
       "      <td>15005</td>\n",
       "      <td>14841</td>\n",
       "      <td>128763</td>\n",
       "      <td>37209</td>\n",
       "      <td>8.58</td>\n",
       "      <td>115</td>\n",
       "      <td>3.319500e+10</td>\n",
       "      <td>26.0</td>\n",
       "      <td>14.969080</td>\n",
       "      <td>9.402599e+11</td>\n",
       "      <td>1.216735e+12</td>\n",
       "      <td>1.198896e+12</td>\n",
       "      <td>1.341887e+12</td>\n",
       "      <td>1.675615e+12</td>\n",
       "      <td>1.823050e+12</td>\n",
       "      <td>1.827638e+12</td>\n",
       "      <td>1.856722e+12</td>\n",
       "      <td>2.039127e+12</td>\n",
       "      <td>2.103588e+12</td>\n",
       "    </tr>\n",
       "    <tr>\n",
       "      <th>France</th>\n",
       "      <td>9</td>\n",
       "      <td>13153</td>\n",
       "      <td>12973</td>\n",
       "      <td>130632</td>\n",
       "      <td>28601</td>\n",
       "      <td>9.93</td>\n",
       "      <td>114</td>\n",
       "      <td>1.059700e+10</td>\n",
       "      <td>166.0</td>\n",
       "      <td>17.020280</td>\n",
       "      <td>2.320536e+12</td>\n",
       "      <td>2.660591e+12</td>\n",
       "      <td>2.930304e+12</td>\n",
       "      <td>2.700887e+12</td>\n",
       "      <td>2.645188e+12</td>\n",
       "      <td>2.865158e+12</td>\n",
       "      <td>2.683672e+12</td>\n",
       "      <td>2.811877e+12</td>\n",
       "      <td>2.855964e+12</td>\n",
       "      <td>2.439189e+12</td>\n",
       "    </tr>\n",
       "    <tr>\n",
       "      <th>South Korea</th>\n",
       "      <td>10</td>\n",
       "      <td>11983</td>\n",
       "      <td>11923</td>\n",
       "      <td>114675</td>\n",
       "      <td>22595</td>\n",
       "      <td>9.57</td>\n",
       "      <td>104</td>\n",
       "      <td>1.100700e+10</td>\n",
       "      <td>221.0</td>\n",
       "      <td>2.279353</td>\n",
       "      <td>1.053217e+12</td>\n",
       "      <td>1.172614e+12</td>\n",
       "      <td>1.047339e+12</td>\n",
       "      <td>9.439419e+11</td>\n",
       "      <td>1.144067e+12</td>\n",
       "      <td>1.253223e+12</td>\n",
       "      <td>1.278428e+12</td>\n",
       "      <td>1.370795e+12</td>\n",
       "      <td>1.484318e+12</td>\n",
       "      <td>1.465773e+12</td>\n",
       "    </tr>\n",
       "    <tr>\n",
       "      <th>Italy</th>\n",
       "      <td>11</td>\n",
       "      <td>10964</td>\n",
       "      <td>10794</td>\n",
       "      <td>111850</td>\n",
       "      <td>26661</td>\n",
       "      <td>10.20</td>\n",
       "      <td>106</td>\n",
       "      <td>6.530000e+09</td>\n",
       "      <td>109.0</td>\n",
       "      <td>33.667230</td>\n",
       "      <td>1.949552e+12</td>\n",
       "      <td>2.213102e+12</td>\n",
       "      <td>2.408655e+12</td>\n",
       "      <td>2.199929e+12</td>\n",
       "      <td>2.136100e+12</td>\n",
       "      <td>2.294994e+12</td>\n",
       "      <td>2.086958e+12</td>\n",
       "      <td>2.141924e+12</td>\n",
       "      <td>2.162010e+12</td>\n",
       "      <td>1.836638e+12</td>\n",
       "    </tr>\n",
       "    <tr>\n",
       "      <th>Spain</th>\n",
       "      <td>12</td>\n",
       "      <td>9428</td>\n",
       "      <td>9330</td>\n",
       "      <td>123336</td>\n",
       "      <td>23964</td>\n",
       "      <td>13.08</td>\n",
       "      <td>115</td>\n",
       "      <td>4.923000e+09</td>\n",
       "      <td>106.0</td>\n",
       "      <td>37.968590</td>\n",
       "      <td>1.260399e+12</td>\n",
       "      <td>1.474003e+12</td>\n",
       "      <td>1.631863e+12</td>\n",
       "      <td>1.491473e+12</td>\n",
       "      <td>1.422108e+12</td>\n",
       "      <td>1.480710e+12</td>\n",
       "      <td>1.324744e+12</td>\n",
       "      <td>1.355143e+12</td>\n",
       "      <td>1.371223e+12</td>\n",
       "      <td>1.195600e+12</td>\n",
       "    </tr>\n",
       "    <tr>\n",
       "      <th>Iran</th>\n",
       "      <td>13</td>\n",
       "      <td>8896</td>\n",
       "      <td>8819</td>\n",
       "      <td>57470</td>\n",
       "      <td>19125</td>\n",
       "      <td>6.46</td>\n",
       "      <td>72</td>\n",
       "      <td>9.172000e+09</td>\n",
       "      <td>119.0</td>\n",
       "      <td>5.707721</td>\n",
       "      <td>2.662989e+11</td>\n",
       "      <td>3.498816e+11</td>\n",
       "      <td>4.123362e+11</td>\n",
       "      <td>4.163970e+11</td>\n",
       "      <td>4.868076e+11</td>\n",
       "      <td>6.261331e+11</td>\n",
       "      <td>6.440355e+11</td>\n",
       "      <td>4.927756e+11</td>\n",
       "      <td>4.603828e+11</td>\n",
       "      <td>4.082129e+11</td>\n",
       "    </tr>\n",
       "    <tr>\n",
       "      <th>Australia</th>\n",
       "      <td>14</td>\n",
       "      <td>8831</td>\n",
       "      <td>8725</td>\n",
       "      <td>90765</td>\n",
       "      <td>15606</td>\n",
       "      <td>10.28</td>\n",
       "      <td>107</td>\n",
       "      <td>5.386000e+09</td>\n",
       "      <td>231.0</td>\n",
       "      <td>11.810810</td>\n",
       "      <td>7.475562e+11</td>\n",
       "      <td>8.539554e+11</td>\n",
       "      <td>1.055127e+12</td>\n",
       "      <td>9.280430e+11</td>\n",
       "      <td>1.147589e+12</td>\n",
       "      <td>1.397908e+12</td>\n",
       "      <td>1.546509e+12</td>\n",
       "      <td>1.576335e+12</td>\n",
       "      <td>1.467505e+12</td>\n",
       "      <td>1.350534e+12</td>\n",
       "    </tr>\n",
       "    <tr>\n",
       "      <th>Brazil</th>\n",
       "      <td>15</td>\n",
       "      <td>8668</td>\n",
       "      <td>8596</td>\n",
       "      <td>60702</td>\n",
       "      <td>14396</td>\n",
       "      <td>7.00</td>\n",
       "      <td>86</td>\n",
       "      <td>1.214900e+10</td>\n",
       "      <td>59.0</td>\n",
       "      <td>69.648030</td>\n",
       "      <td>1.107627e+12</td>\n",
       "      <td>1.397114e+12</td>\n",
       "      <td>1.695855e+12</td>\n",
       "      <td>1.666996e+12</td>\n",
       "      <td>2.208838e+12</td>\n",
       "      <td>2.616157e+12</td>\n",
       "      <td>2.465228e+12</td>\n",
       "      <td>2.472819e+12</td>\n",
       "      <td>2.456044e+12</td>\n",
       "      <td>1.802212e+12</td>\n",
       "    </tr>\n",
       "  </tbody>\n",
       "</table>\n",
       "</div>"
      ],
      "text/plain": [
       "                    Rank  Documents  Citable documents  Citations  \\\n",
       "Country                                                             \n",
       "China                  1     127050             126767     597237   \n",
       "United States          2      96661              94747     792274   \n",
       "Japan                  3      30504              30287     223024   \n",
       "United Kingdom         4      20944              20357     206091   \n",
       "Russian Federation     5      18534              18301      34266   \n",
       "Canada                 6      17899              17620     215003   \n",
       "Germany                7      17027              16831     140566   \n",
       "India                  8      15005              14841     128763   \n",
       "France                 9      13153              12973     130632   \n",
       "South Korea           10      11983              11923     114675   \n",
       "Italy                 11      10964              10794     111850   \n",
       "Spain                 12       9428               9330     123336   \n",
       "Iran                  13       8896               8819      57470   \n",
       "Australia             14       8831               8725      90765   \n",
       "Brazil                15       8668               8596      60702   \n",
       "\n",
       "                    Self-citations  Citations per document  H index  \\\n",
       "Country                                                               \n",
       "China                       411683                    4.70      138   \n",
       "United States               265436                    8.20      230   \n",
       "Japan                        61554                    7.31      134   \n",
       "United Kingdom               37874                    9.84      139   \n",
       "Russian Federation           12422                    1.85       57   \n",
       "Canada                       40930                   12.01      149   \n",
       "Germany                      27426                    8.26      126   \n",
       "India                        37209                    8.58      115   \n",
       "France                       28601                    9.93      114   \n",
       "South Korea                  22595                    9.57      104   \n",
       "Italy                        26661                   10.20      106   \n",
       "Spain                        23964                   13.08      115   \n",
       "Iran                         19125                    6.46       72   \n",
       "Australia                    15606                   10.28      107   \n",
       "Brazil                       14396                    7.00       86   \n",
       "\n",
       "                    Energy Supply  Energy Supply per Capita  % Renewable  \\\n",
       "Country                                                                    \n",
       "China                1.271910e+11                      93.0    19.754910   \n",
       "United States        9.083800e+10                     286.0    11.570980   \n",
       "Japan                1.898400e+10                     149.0    10.232820   \n",
       "United Kingdom       7.920000e+09                     124.0    10.600470   \n",
       "Russian Federation   3.070900e+10                     214.0    17.288680   \n",
       "Canada               1.043100e+10                     296.0    61.945430   \n",
       "Germany              1.326100e+10                     165.0    17.901530   \n",
       "India                3.319500e+10                      26.0    14.969080   \n",
       "France               1.059700e+10                     166.0    17.020280   \n",
       "South Korea          1.100700e+10                     221.0     2.279353   \n",
       "Italy                6.530000e+09                     109.0    33.667230   \n",
       "Spain                4.923000e+09                     106.0    37.968590   \n",
       "Iran                 9.172000e+09                     119.0     5.707721   \n",
       "Australia            5.386000e+09                     231.0    11.810810   \n",
       "Brazil               1.214900e+10                      59.0    69.648030   \n",
       "\n",
       "                            2006          2007          2008          2009  \\\n",
       "Country                                                                      \n",
       "China               2.752132e+12  3.550343e+12  4.594307e+12  5.101703e+12   \n",
       "United States       1.381559e+13  1.447423e+13  1.476986e+13  1.447806e+13   \n",
       "Japan               4.601663e+12  4.579751e+12  5.106679e+12  5.289493e+12   \n",
       "United Kingdom      2.717060e+12  3.106182e+12  2.938882e+12  2.425798e+12   \n",
       "Russian Federation  9.899305e+11  1.299706e+12  1.660846e+12  1.222644e+12   \n",
       "Canada              1.319265e+12  1.468820e+12  1.552990e+12  1.374625e+12   \n",
       "Germany             2.994704e+12  3.425578e+12  3.745264e+12  3.411261e+12   \n",
       "India               9.402599e+11  1.216735e+12  1.198896e+12  1.341887e+12   \n",
       "France              2.320536e+12  2.660591e+12  2.930304e+12  2.700887e+12   \n",
       "South Korea         1.053217e+12  1.172614e+12  1.047339e+12  9.439419e+11   \n",
       "Italy               1.949552e+12  2.213102e+12  2.408655e+12  2.199929e+12   \n",
       "Spain               1.260399e+12  1.474003e+12  1.631863e+12  1.491473e+12   \n",
       "Iran                2.662989e+11  3.498816e+11  4.123362e+11  4.163970e+11   \n",
       "Australia           7.475562e+11  8.539554e+11  1.055127e+12  9.280430e+11   \n",
       "Brazil              1.107627e+12  1.397114e+12  1.695855e+12  1.666996e+12   \n",
       "\n",
       "                            2010          2011          2012          2013  \\\n",
       "Country                                                                      \n",
       "China               6.087164e+12  7.551500e+12  8.532230e+12  9.570406e+12   \n",
       "United States       1.504896e+13  1.559973e+13  1.625397e+13  1.684319e+13   \n",
       "Japan               5.759072e+12  6.233147e+12  6.272363e+12  5.212328e+12   \n",
       "United Kingdom      2.491110e+12  2.674891e+12  2.719158e+12  2.803291e+12   \n",
       "Russian Federation  1.524917e+12  2.045926e+12  2.208296e+12  2.292473e+12   \n",
       "Canada              1.617343e+12  1.793327e+12  1.828366e+12  1.846597e+12   \n",
       "Germany             3.399668e+12  3.749315e+12  3.527143e+12  3.733805e+12   \n",
       "India               1.675615e+12  1.823050e+12  1.827638e+12  1.856722e+12   \n",
       "France              2.645188e+12  2.865158e+12  2.683672e+12  2.811877e+12   \n",
       "South Korea         1.144067e+12  1.253223e+12  1.278428e+12  1.370795e+12   \n",
       "Italy               2.136100e+12  2.294994e+12  2.086958e+12  2.141924e+12   \n",
       "Spain               1.422108e+12  1.480710e+12  1.324744e+12  1.355143e+12   \n",
       "Iran                4.868076e+11  6.261331e+11  6.440355e+11  4.927756e+11   \n",
       "Australia           1.147589e+12  1.397908e+12  1.546509e+12  1.576335e+12   \n",
       "Brazil              2.208838e+12  2.616157e+12  2.465228e+12  2.472819e+12   \n",
       "\n",
       "                            2014          2015  \n",
       "Country                                         \n",
       "China               1.047568e+13  1.106155e+13  \n",
       "United States       1.755068e+13  1.820602e+13  \n",
       "Japan               4.896994e+12  4.444931e+12  \n",
       "United Kingdom      3.087166e+12  2.956574e+12  \n",
       "Russian Federation  2.059242e+12  1.363481e+12  \n",
       "Canada              1.805750e+12  1.556509e+12  \n",
       "Germany             3.889093e+12  3.357586e+12  \n",
       "India               2.039127e+12  2.103588e+12  \n",
       "France              2.855964e+12  2.439189e+12  \n",
       "South Korea         1.484318e+12  1.465773e+12  \n",
       "Italy               2.162010e+12  1.836638e+12  \n",
       "Spain               1.371223e+12  1.195600e+12  \n",
       "Iran                4.603828e+11  4.082129e+11  \n",
       "Australia           1.467505e+12  1.350534e+12  \n",
       "Brazil              2.456044e+12  1.802212e+12  "
      ]
     },
     "execution_count": 3,
     "metadata": {},
     "output_type": "execute_result"
    }
   ],
   "source": [
    "#check: \n",
    "answer_one()"
   ]
  },
  {
   "cell_type": "markdown",
   "id": "28d628ea",
   "metadata": {},
   "source": [
    "## Question 2\n",
    "\n",
    "The previous question joined three datasets then reduced this to just the top 15 entries. When you joined the datasets, but before you reduced this to the top 15 items, how many entries did you lose?\n",
    "\n",
    "This function should return a single number."
   ]
  },
  {
   "cell_type": "code",
   "execution_count": 4,
   "id": "fa89c2ed",
   "metadata": {},
   "outputs": [
    {
     "data": {
      "text/html": [
       "<svg width=\"800\" height=\"300\">\n",
       "  <circle cx=\"150\" cy=\"180\" r=\"80\" fill-opacity=\"0.2\" stroke=\"black\" stroke-width=\"2\" fill=\"blue\" />\n",
       "  <circle cx=\"200\" cy=\"100\" r=\"80\" fill-opacity=\"0.2\" stroke=\"black\" stroke-width=\"2\" fill=\"red\" />\n",
       "  <circle cx=\"100\" cy=\"100\" r=\"80\" fill-opacity=\"0.2\" stroke=\"black\" stroke-width=\"2\" fill=\"green\" />\n",
       "  <line x1=\"150\" y1=\"125\" x2=\"300\" y2=\"150\" stroke=\"black\" stroke-width=\"2\" fill=\"black\" stroke-dasharray=\"5,3\"/>\n",
       "  <text x=\"300\" y=\"165\" font-family=\"Verdana\" font-size=\"35\">Everything but this!</text>\n",
       "</svg>\n"
      ],
      "text/plain": [
       "<IPython.core.display.HTML object>"
      ]
     },
     "metadata": {},
     "output_type": "display_data"
    }
   ],
   "source": [
    "%%HTML\n",
    "<svg width=\"800\" height=\"300\">\n",
    "  <circle cx=\"150\" cy=\"180\" r=\"80\" fill-opacity=\"0.2\" stroke=\"black\" stroke-width=\"2\" fill=\"blue\" />\n",
    "  <circle cx=\"200\" cy=\"100\" r=\"80\" fill-opacity=\"0.2\" stroke=\"black\" stroke-width=\"2\" fill=\"red\" />\n",
    "  <circle cx=\"100\" cy=\"100\" r=\"80\" fill-opacity=\"0.2\" stroke=\"black\" stroke-width=\"2\" fill=\"green\" />\n",
    "  <line x1=\"150\" y1=\"125\" x2=\"300\" y2=\"150\" stroke=\"black\" stroke-width=\"2\" fill=\"black\" stroke-dasharray=\"5,3\"/>\n",
    "  <text x=\"300\" y=\"165\" font-family=\"Verdana\" font-size=\"35\">Everything but this!</text>\n",
    "</svg>"
   ]
  },
  {
   "cell_type": "code",
   "execution_count": 5,
   "id": "049d6144",
   "metadata": {},
   "outputs": [],
   "source": [
    "def answer_two():\n",
    "    Energy = pd.read_excel(\"EnergyIndicator.xls\", usecols = \"C:F\",\n",
    "                       names = ['Country', 'Energy Supply', 'Energy Supply per Capita', '% Renewable'])\n",
    "    Energy.drop(Energy.index[0:17],0,inplace=True) #drop header\n",
    "    Energy.drop(Energy.index[227:],0,inplace=True) #drop footer\n",
    "    Energy.replace({'...':np.nan}, inplace= True) #replace empty cells \n",
    "    Energy['Energy Supply'] = Energy['Energy Supply']*1000000 #convert petajoules to gigajoules \n",
    "    import re\n",
    "    Energy['Country'] = Energy['Country'].map(lambda x: re.sub('[0-9]', '', x))#replace numbers \n",
    "    Energy['Country'] = Energy['Country'].map(lambda x: \n",
    "                                          re.sub('(\\s[(])([\\w\\s]+)([)])', '', x))#replace anything in brackets\n",
    "    Energy.replace({\"Republic of Korea\": \"South Korea\", \n",
    "                \"United States of America\": \"United States\", \n",
    "                \"United Kingdom of Great Britain and Northern Ireland\": \n",
    "                \"United Kingdom\", \"China, Hong Kong Special Administrative Region\": \n",
    "                \"Hong Kong\"}, inplace= True)#replace country names \n",
    "    #GDP data \n",
    "    GDP = pd.read_csv('assets.csv', skiprows=4)\n",
    "    GDP.replace({\"Korea, Rep.\": \"South Korea\", \n",
    "           \"Iran, Islamic Rep.\": \"Iran\", \n",
    "           \"Hong Kong SAR, China\": \"Hong Kong\"}, inplace = True)\n",
    "    GDPsub = GDP[['Country Name','2006','2007',\n",
    "                  '2008','2009','2010','2011','2012','2013','2014','2015']] #only years 2006-2015\n",
    "    GDPsub.rename(columns = {\"Country Name\":\"Country\"}, inplace = True)\n",
    "    #Sciamgo Journal and Country Rank data\n",
    "    ScimEn = pd.read_excel(\"scimagojr-3.xlsx\")\n",
    "\n",
    "#merging Dataframes (inner merge)\n",
    "    EnergyGDP = pd.merge(Energy, GDPsub, how = \"inner\", left_on = \"Country\", right_on = 'Country')\n",
    "    DF = pd.merge(EnergyGDP, ScimEn, how = \"inner\", left_on = \"Country\", right_on = 'Country')\n",
    "    DF = DF[['Country','Rank', 'Documents', 'Citable documents', 'Citations', 'Self-citations', \n",
    "    'Citations per document', 'H index', 'Energy Supply', 'Energy Supply per Capita', '% Renewable', '2006', \n",
    "    '2007', '2008', '2009', '2010', '2011', '2012', '2013', '2014', \n",
    "             '2015']].set_index('Country').sort_values(by='Rank')\n",
    "#outer merge \n",
    "    EnergyGDP_outer = pd.merge(Energy, GDPsub, how = \"outer\", on = 'Country')\n",
    "    DF_outer = pd.merge(EnergyGDP_outer, ScimEn, how = \"outer\", on = 'Country')\n",
    "    DF_outer = DF_outer[['Country','Rank', 'Documents', 'Citable documents', 'Citations', 'Self-citations', \n",
    "                     'Citations per document', 'H index', 'Energy Supply', 'Energy Supply per Capita', '% Renewable', '2006', \n",
    "                     '2007', '2008', '2009', '2010', '2011', '2012', '2013', '2014', \n",
    "                     '2015']].set_index('Country').sort_values(by='Rank')\n",
    "\n",
    "    loss = len(DF_outer)-len(DF)\n",
    "    return int(loss)\n",
    "    #raise NotImplementedError()"
   ]
  },
  {
   "cell_type": "code",
   "execution_count": 6,
   "id": "417759f8",
   "metadata": {},
   "outputs": [
    {
     "data": {
      "text/plain": [
       "166"
      ]
     },
     "execution_count": 6,
     "metadata": {},
     "output_type": "execute_result"
    }
   ],
   "source": [
    "#check \n",
    "answer_two()"
   ]
  },
  {
   "cell_type": "markdown",
   "id": "69f232b9",
   "metadata": {},
   "source": [
    "## Question 3\n",
    "\n",
    "What are the top 15 countries for average GDP over the last 10 years?\n",
    "\n",
    "This function should return a Series named avgGDP with 15 countries and their average GDP sorted in descending order."
   ]
  },
  {
   "cell_type": "code",
   "execution_count": 7,
   "id": "cb895368",
   "metadata": {},
   "outputs": [],
   "source": [
    "def answer_three():\n",
    "    # YOUR CODE HERE\n",
    "    DF = answer_one()\n",
    "    DF['avgGDP'] = DF[['2006','2007','2008','2009','2010',\n",
    "                   '2011','2012','2013','2014','2015']].mean(axis = 1)\n",
    "    DF.sort_values(by = 'avgGDP', ascending = False, inplace = True)\n",
    "    return pd.Series(DF['avgGDP'])\n",
    "    #raise NotImplementedError()"
   ]
  },
  {
   "cell_type": "code",
   "execution_count": 8,
   "id": "9a7cdf29",
   "metadata": {},
   "outputs": [
    {
     "data": {
      "text/plain": [
       "Country\n",
       "United States         1.570403e+13\n",
       "China                 6.927702e+12\n",
       "Japan                 5.239642e+12\n",
       "Germany               3.523342e+12\n",
       "United Kingdom        2.792011e+12\n",
       "France                2.691337e+12\n",
       "Italy                 2.142986e+12\n",
       "Brazil                1.988889e+12\n",
       "Russian Federation    1.666746e+12\n",
       "Canada                1.616359e+12\n",
       "India                 1.602352e+12\n",
       "Spain                 1.400727e+12\n",
       "South Korea           1.221372e+12\n",
       "Australia             1.207106e+12\n",
       "Iran                  4.563261e+11\n",
       "Name: avgGDP, dtype: float64"
      ]
     },
     "execution_count": 8,
     "metadata": {},
     "output_type": "execute_result"
    }
   ],
   "source": [
    "#check: \n",
    "answer_three()"
   ]
  },
  {
   "cell_type": "markdown",
   "id": "708353be",
   "metadata": {},
   "source": [
    "## Question 4\n",
    "\n",
    "By how much had the GDP changed over the 10 year span for the country with the 6th largest average GDP?\n",
    "\n",
    "This function should return a single number."
   ]
  },
  {
   "cell_type": "code",
   "execution_count": 9,
   "id": "f03d598a",
   "metadata": {},
   "outputs": [],
   "source": [
    "def answer_four():\n",
    "    DF = answer_one()\n",
    "    DF['avgGDP'] = answer_three()\n",
    "    DF.sort_values(by = 'avgGDP', ascending = False, inplace = True)\n",
    "    return DF.head(6).iloc[-1]['2015'] - DF.head(6).iloc[-1]['2006']\n",
    "    #raise NotImplementedError()"
   ]
  },
  {
   "cell_type": "code",
   "execution_count": 10,
   "id": "7ea45f51",
   "metadata": {},
   "outputs": [
    {
     "data": {
      "text/plain": [
       "118652421857.7998"
      ]
     },
     "execution_count": 10,
     "metadata": {},
     "output_type": "execute_result"
    }
   ],
   "source": [
    "#check\n",
    "answer_four()"
   ]
  },
  {
   "cell_type": "markdown",
   "id": "eb63a13a",
   "metadata": {},
   "source": [
    "## Question 5\n",
    "\n",
    "What is the mean energy supply per capita?\n",
    "\n",
    "This function should return a single number."
   ]
  },
  {
   "cell_type": "code",
   "execution_count": 11,
   "id": "73e5860d",
   "metadata": {},
   "outputs": [],
   "source": [
    "def answer_five():\n",
    "    # YOUR CODE HERE\n",
    "    DF = answer_one()\n",
    "    return DF['Energy Supply per Capita'].mean()\n",
    "    #raise NotImplementedError()"
   ]
  },
  {
   "cell_type": "code",
   "execution_count": 12,
   "id": "8e209bae",
   "metadata": {},
   "outputs": [
    {
     "data": {
      "text/plain": [
       "157.6"
      ]
     },
     "execution_count": 12,
     "metadata": {},
     "output_type": "execute_result"
    }
   ],
   "source": [
    "answer_five()"
   ]
  },
  {
   "cell_type": "markdown",
   "id": "ff9a2292",
   "metadata": {},
   "source": [
    "## Question 6\n",
    "\n",
    "What country has the maximum % Renewable and what is the percentage?\n",
    "\n",
    "This function should return a tuple with the name of the country and the percentage."
   ]
  },
  {
   "cell_type": "code",
   "execution_count": 13,
   "id": "2ff9f262",
   "metadata": {},
   "outputs": [],
   "source": [
    "def answer_six():\n",
    "    # YOUR CODE HERE\n",
    "    DF = answer_one() #get dataframe\n",
    "    DF.sort_values(by = \"% Renewable\", ascending = False, inplace = True) #sort values by renewable\n",
    "    solution = (DF.reset_index().iloc[0]['Country'], #get solution (Country of first row)\n",
    "                DF.iloc[0]['% Renewable']) #and Renewable of 1st row\n",
    "    return solution\n",
    "    #raise NotImplementedError()"
   ]
  },
  {
   "cell_type": "code",
   "execution_count": 14,
   "id": "438a24b5",
   "metadata": {},
   "outputs": [
    {
     "data": {
      "text/plain": [
       "('Brazil', 69.64803)"
      ]
     },
     "execution_count": 14,
     "metadata": {},
     "output_type": "execute_result"
    }
   ],
   "source": [
    "#check\n",
    "answer_six()"
   ]
  },
  {
   "cell_type": "markdown",
   "id": "64b31a43",
   "metadata": {},
   "source": [
    "## Question 7\n",
    "\n",
    "Create a new column that is the ratio of Self-Citations to Total Citations. What is the maximum value for this new column, and what country has the highest ratio?\n",
    "\n",
    "This function should return a tuple with the name of the country and the ratio."
   ]
  },
  {
   "cell_type": "code",
   "execution_count": 15,
   "id": "8072e26e",
   "metadata": {},
   "outputs": [],
   "source": [
    "def answer_seven():\n",
    "    # YOUR CODE HERE\n",
    "    DF = answer_one()\n",
    "    DF['CitRatio'] = DF['Self-citations']/DF['Citations']\n",
    "    DF.sort_values(by = 'CitRatio', ascending = False, inplace = True)\n",
    "    solution = (DF.reset_index().iloc[0]['Country'], #get solution (Country of first row)\n",
    "                DF.iloc[0]['CitRatio'])\n",
    "    return solution \n",
    "   # raise NotImplementedError()"
   ]
  },
  {
   "cell_type": "code",
   "execution_count": 16,
   "id": "c970a960",
   "metadata": {},
   "outputs": [
    {
     "data": {
      "text/plain": [
       "('China', 0.6893126179389422)"
      ]
     },
     "execution_count": 16,
     "metadata": {},
     "output_type": "execute_result"
    }
   ],
   "source": [
    "answer_seven()"
   ]
  },
  {
   "cell_type": "markdown",
   "id": "cd80c652",
   "metadata": {},
   "source": [
    "## Question 8 \n",
    "\n",
    "Create a column that estimates the population using Energy Supply and Energy Supply per capita. What is the third most populous country according to this estimate?\n",
    "\n",
    "This function should return the name of the country"
   ]
  },
  {
   "cell_type": "code",
   "execution_count": 17,
   "id": "863e671c",
   "metadata": {},
   "outputs": [],
   "source": [
    "def answer_eight():\n",
    "    # YOUR CODE HERE\n",
    "    DF = answer_one()\n",
    "    DF.head()\n",
    "    DF['POP'] = DF['Energy Supply']/DF['Energy Supply per Capita']\n",
    "    DF.sort_values(by = \"POP\", ascending = False, inplace = True)\n",
    "    return DF.reset_index().iloc[2]['Country']\n",
    "    #raise NotImplementedError()"
   ]
  },
  {
   "cell_type": "code",
   "execution_count": 18,
   "id": "1780ec62",
   "metadata": {},
   "outputs": [
    {
     "data": {
      "text/plain": [
       "'United States'"
      ]
     },
     "execution_count": 18,
     "metadata": {},
     "output_type": "execute_result"
    }
   ],
   "source": [
    "answer_eight()"
   ]
  },
  {
   "cell_type": "markdown",
   "id": "c6abf0d7",
   "metadata": {},
   "source": [
    "## Question 9 \n",
    "\n",
    "Create a column that estimates the number of citable documents per person. What is the correlation between the number of citable documents per capita and the energy supply per capita? Use the .corr() method, (Pearson's correlation).\n",
    "\n",
    "This function should return a single number.\n",
    "\n",
    "(Optional: Use the built-in function plot9() to visualize the relationship between Energy Supply per Capita vs. Citable docs per Capita)"
   ]
  },
  {
   "cell_type": "code",
   "execution_count": 19,
   "id": "045f2787",
   "metadata": {},
   "outputs": [],
   "source": [
    "def answer_nine():\n",
    "    # YOUR CODE HERE\n",
    "    DF = answer_one()\n",
    "    DF['POP'] = DF['Energy Supply']/DF['Energy Supply per Capita']\n",
    "    DF['Citable Docs per Capita'] = DF['Citable documents']/DF['POP']\n",
    "    return DF['Energy Supply per Capita'].corr(DF['Citable Docs per Capita'])\n",
    "    #raise NotImplementedError()"
   ]
  },
  {
   "cell_type": "code",
   "execution_count": 20,
   "id": "eb9f16b1",
   "metadata": {},
   "outputs": [
    {
     "data": {
      "text/plain": [
       "0.7940010435442942"
      ]
     },
     "execution_count": 20,
     "metadata": {},
     "output_type": "execute_result"
    }
   ],
   "source": [
    "answer_nine()"
   ]
  },
  {
   "cell_type": "code",
   "execution_count": 21,
   "id": "e14f5c87",
   "metadata": {},
   "outputs": [],
   "source": [
    "def plot9():\n",
    "    import matplotlib as plt\n",
    "    %matplotlib inline\n",
    "    \n",
    "    Top15 = answer_one()\n",
    "    Top15['PopEst'] = Top15['Energy Supply'] / Top15['Energy Supply per Capita']\n",
    "    Top15['Citable docs per Capita'] = Top15['Citable documents'] / Top15['PopEst']\n",
    "    Top15.plot(x='Citable docs per Capita', y='Energy Supply per Capita', kind='scatter', xlim=[0, 0.0006])\n",
    "    "
   ]
  },
  {
   "cell_type": "code",
   "execution_count": 22,
   "id": "26e4cc71",
   "metadata": {},
   "outputs": [
    {
     "data": {
      "image/png": "[encoded data removed]",
      "text/plain": [
       "<Figure size 640x480 with 1 Axes>"
      ]
     },
     "metadata": {},
     "output_type": "display_data"
    }
   ],
   "source": [
    "plot9()"
   ]
  },
  {
   "cell_type": "markdown",
   "id": "68e6c190",
   "metadata": {},
   "source": [
    "## Question 10 \n",
    "\n",
    "Create a new column with a 1 if the country's % Renewable value is at or above the median for all countries in the top 15, and a 0 if the country's % Renewable value is below the median.\n",
    "\n",
    "This function should return a series named HighRenew whose index is the country name sorted in ascending order of rank."
   ]
  },
  {
   "cell_type": "code",
   "execution_count": 23,
   "id": "52e2ebf3",
   "metadata": {},
   "outputs": [],
   "source": [
    "def answer_ten():\n",
    "    # YOUR CODE HERE\n",
    "    DF = answer_one()\n",
    "    median = DF['% Renewable'].median()\n",
    "    def above_median(x): \n",
    "        if x >= median:\n",
    "            return 1 \n",
    "        else: \n",
    "            return 0\n",
    "    DF['HighRenew'] = DF['% Renewable'].map(lambda x: above_median(x)) \n",
    "    return pd.Series(DF['HighRenew'])\n",
    "    \n",
    "    #raise NotImplementedError()"
   ]
  },
  {
   "cell_type": "code",
   "execution_count": 24,
   "id": "8a927514",
   "metadata": {},
   "outputs": [
    {
     "data": {
      "text/plain": [
       "Country\n",
       "China                 1\n",
       "United States         0\n",
       "Japan                 0\n",
       "United Kingdom        0\n",
       "Russian Federation    1\n",
       "Canada                1\n",
       "Germany               1\n",
       "India                 0\n",
       "France                1\n",
       "South Korea           0\n",
       "Italy                 1\n",
       "Spain                 1\n",
       "Iran                  0\n",
       "Australia             0\n",
       "Brazil                1\n",
       "Name: HighRenew, dtype: int64"
      ]
     },
     "execution_count": 24,
     "metadata": {},
     "output_type": "execute_result"
    }
   ],
   "source": [
    "answer_ten()"
   ]
  },
  {
   "cell_type": "markdown",
   "id": "18127870",
   "metadata": {},
   "source": [
    "## Question 11\n",
    "\n",
    "Use the following dictionary to group the Countries by Continent, then create a DataFrame that displays the sample size (the number of countries in each continent bin), and the sum, mean, and std deviation for the estimated population of each country.\n",
    "\n",
    "ContinentDict  = {'China':'Asia', \n",
    "                  'United States':'North America', \n",
    "                  'Japan':'Asia', \n",
    "                  'United Kingdom':'Europe', \n",
    "                  'Russian Federation':'Europe', \n",
    "                  'Canada':'North America', \n",
    "                  'Germany':'Europe', \n",
    "                  'India':'Asia',\n",
    "                  'France':'Europe', \n",
    "                  'South Korea':'Asia', \n",
    "                  'Italy':'Europe', \n",
    "                  'Spain':'Europe', \n",
    "                  'Iran':'Asia',\n",
    "                  'Australia':'Australia', \n",
    "                  'Brazil':'South America'}\n",
    "\n",
    "\n",
    "  This function should return a DataFrame with index named Continent ['Asia', 'Australia', 'Europe', 'North America', 'South America'] and columns ['size', 'sum', 'mean', 'std']"
   ]
  },
  {
   "cell_type": "code",
   "execution_count": 25,
   "id": "16144142",
   "metadata": {},
   "outputs": [],
   "source": [
    "def answer_eleven():\n",
    "    # YOUR CODE HERE\n",
    "    DF = answer_one()\n",
    "    ContinentDict = {'China':'Asia', 'United States':'North America', \n",
    "                 'Japan':'Asia', 'United Kingdom':'Europe', \n",
    "                 'Russian Federation':'Europe', \n",
    "                 'Canada':'North America', 'Germany':'Europe', \n",
    "                 'India':'Asia', 'France':'Europe', 'South Korea':'Asia', \n",
    "                 'Italy':'Europe', 'Spain':'Europe', 'Iran':'Asia', 'Australia':'Australia', \n",
    "                 'Brazil':'South America'}\n",
    "    groups = pd.DataFrame(columns = ['size', 'sum', 'mean', 'std'])\n",
    "    DF['POP'] = DF['Energy Supply']/DF['Energy Supply per Capita']\n",
    "    for group, frame in DF.groupby(ContinentDict):\n",
    "        groups.loc[group] = [len(frame), frame['POP'].sum(),frame['POP'].mean(),frame['POP'].std()]\n",
    "    groups.index.names = ['Continent']\n",
    "    return groups\n",
    "    #raise NotImplementedError()"
   ]
  },
  {
   "cell_type": "code",
   "execution_count": 26,
   "id": "b5786b2e",
   "metadata": {},
   "outputs": [
    {
     "data": {
      "text/html": [
       "<div>\n",
       "<style scoped>\n",
       "    .dataframe tbody tr th:only-of-type {\n",
       "        vertical-align: middle;\n",
       "    }\n",
       "\n",
       "    .dataframe tbody tr th {\n",
       "        vertical-align: top;\n",
       "    }\n",
       "\n",
       "    .dataframe thead th {\n",
       "        text-align: right;\n",
       "    }\n",
       "</style>\n",
       "<table border=\"1\" class=\"dataframe\">\n",
       "  <thead>\n",
       "    <tr style=\"text-align: right;\">\n",
       "      <th></th>\n",
       "      <th>size</th>\n",
       "      <th>sum</th>\n",
       "      <th>mean</th>\n",
       "      <th>std</th>\n",
       "    </tr>\n",
       "    <tr>\n",
       "      <th>Continent</th>\n",
       "      <th></th>\n",
       "      <th></th>\n",
       "      <th></th>\n",
       "      <th></th>\n",
       "    </tr>\n",
       "  </thead>\n",
       "  <tbody>\n",
       "    <tr>\n",
       "      <th>Asia</th>\n",
       "      <td>5.0</td>\n",
       "      <td>2.898666e+09</td>\n",
       "      <td>5.797333e+08</td>\n",
       "      <td>6.790979e+08</td>\n",
       "    </tr>\n",
       "    <tr>\n",
       "      <th>Australia</th>\n",
       "      <td>1.0</td>\n",
       "      <td>2.331602e+07</td>\n",
       "      <td>2.331602e+07</td>\n",
       "      <td>NaN</td>\n",
       "    </tr>\n",
       "    <tr>\n",
       "      <th>Europe</th>\n",
       "      <td>6.0</td>\n",
       "      <td>4.579297e+08</td>\n",
       "      <td>7.632161e+07</td>\n",
       "      <td>3.464767e+07</td>\n",
       "    </tr>\n",
       "    <tr>\n",
       "      <th>North America</th>\n",
       "      <td>2.0</td>\n",
       "      <td>3.528552e+08</td>\n",
       "      <td>1.764276e+08</td>\n",
       "      <td>1.996696e+08</td>\n",
       "    </tr>\n",
       "    <tr>\n",
       "      <th>South America</th>\n",
       "      <td>1.0</td>\n",
       "      <td>2.059153e+08</td>\n",
       "      <td>2.059153e+08</td>\n",
       "      <td>NaN</td>\n",
       "    </tr>\n",
       "  </tbody>\n",
       "</table>\n",
       "</div>"
      ],
      "text/plain": [
       "               size           sum          mean           std\n",
       "Continent                                                    \n",
       "Asia            5.0  2.898666e+09  5.797333e+08  6.790979e+08\n",
       "Australia       1.0  2.331602e+07  2.331602e+07           NaN\n",
       "Europe          6.0  4.579297e+08  7.632161e+07  3.464767e+07\n",
       "North America   2.0  3.528552e+08  1.764276e+08  1.996696e+08\n",
       "South America   1.0  2.059153e+08  2.059153e+08           NaN"
      ]
     },
     "execution_count": 26,
     "metadata": {},
     "output_type": "execute_result"
    }
   ],
   "source": [
    "answer_eleven()"
   ]
  },
  {
   "cell_type": "markdown",
   "id": "a8f5ac6e",
   "metadata": {},
   "source": [
    "## Question 12\n",
    "\n",
    "Cut % Renewable into 5 bins. Group Top15 by the Continent, as well as these new % Renewable bins. How many countries are in each of these groups?\n",
    "\n",
    "This function should return a Series with a MultiIndex of Continent, then the bins for % Renewable. Do not include groups with no countries."
   ]
  },
  {
   "cell_type": "code",
   "execution_count": 27,
   "id": "e33fa5b8",
   "metadata": {},
   "outputs": [],
   "source": [
    "def answer_twelve():\n",
    "    # YOUR CODE HERE\n",
    "    DF = answer_one().reset_index()\n",
    "    DF.head()\n",
    "    ContinentDict = {'China':'Asia', 'United States':'North America', \n",
    "                 'Japan':'Asia', 'United Kingdom':'Europe', \n",
    "                 'Russian Federation':'Europe', \n",
    "                 'Canada':'North America', 'Germany':'Europe', \n",
    "                 'India':'Asia', 'France':'Europe', 'South Korea':'Asia', \n",
    "                 'Italy':'Europe', 'Spain':'Europe', 'Iran':'Asia', 'Australia':'Australia', \n",
    "                 'Brazil':'South America'}\n",
    "    #create continent column \n",
    "    DF[\"Continent\"] = DF[\"Country\"].map(ContinentDict)\n",
    "    #cut % renewable into bins \n",
    "    DF[\"% Renewable\"] = pd.cut(DF['% Renewable'], 5)\n",
    "    #create MultiIndex Groupby Object\n",
    "    return DF.groupby([\"Continent\", \"% Renewable\"]).size()[lambda x: x >0]\n",
    "    #raise NotImplementedError()"
   ]
  },
  {
   "cell_type": "code",
   "execution_count": 28,
   "id": "7b89807c",
   "metadata": {},
   "outputs": [
    {
     "data": {
      "text/plain": [
       "Continent      % Renewable     \n",
       "Asia           (2.212, 15.753]     4\n",
       "               (15.753, 29.227]    1\n",
       "Australia      (2.212, 15.753]     1\n",
       "Europe         (2.212, 15.753]     1\n",
       "               (15.753, 29.227]    3\n",
       "               (29.227, 42.701]    2\n",
       "North America  (2.212, 15.753]     1\n",
       "               (56.174, 69.648]    1\n",
       "South America  (56.174, 69.648]    1\n",
       "dtype: int64"
      ]
     },
     "execution_count": 28,
     "metadata": {},
     "output_type": "execute_result"
    }
   ],
   "source": [
    "answer_twelve()"
   ]
  },
  {
   "cell_type": "markdown",
   "id": "34512e2e",
   "metadata": {},
   "source": [
    "## Question 13\n",
    "\n",
    "Convert the Population Estimate series to a string with thousands separator (using commas). Use all significant digits (do not round the results).\n",
    "\n",
    "e.g. 12345678.90 -> 12,345,678.90\n",
    "\n",
    "This function should return a series PopEst whose index is the country name and whose values are the population estimate string"
   ]
  },
  {
   "cell_type": "code",
   "execution_count": 29,
   "id": "54629b33",
   "metadata": {},
   "outputs": [],
   "source": [
    "def answer_thirteen():\n",
    "    # YOUR CODE HERE\n",
    "    DF = answer_one()\n",
    "    DF['POP'] = DF['Energy Supply']/DF['Energy Supply per Capita']\n",
    "    DF['POP'] = DF['POP'].apply(lambda x: '{:,}'.format(x))\n",
    "    DF['POPstr'] = DF['POP'].apply(lambda x: str(x))\n",
    "    return pd.Series(DF['POPstr'])\n",
    "    #raise NotImplementedError()"
   ]
  },
  {
   "cell_type": "code",
   "execution_count": 30,
   "id": "1054ac20",
   "metadata": {},
   "outputs": [
    {
     "data": {
      "text/plain": [
       "Country\n",
       "China                 1,367,645,161.2903225\n",
       "United States          317,615,384.61538464\n",
       "Japan                  127,409,395.97315437\n",
       "United Kingdom         63,870,967.741935484\n",
       "Russian Federation            143,500,000.0\n",
       "Canada                  35,239,864.86486486\n",
       "Germany                 80,369,696.96969697\n",
       "India                 1,276,730,769.2307692\n",
       "France                  63,837,349.39759036\n",
       "South Korea            49,805,429.864253394\n",
       "Italy                  59,908,256.880733944\n",
       "Spain                    46,443,396.2264151\n",
       "Iran                    77,075,630.25210084\n",
       "Australia              23,316,017.316017315\n",
       "Brazil                 205,915,254.23728815\n",
       "Name: POPstr, dtype: object"
      ]
     },
     "execution_count": 30,
     "metadata": {},
     "output_type": "execute_result"
    }
   ],
   "source": [
    "answer_thirteen()"
   ]
  },
  {
   "cell_type": "markdown",
   "id": "14f16ec5",
   "metadata": {},
   "source": [
    "## Optional \n",
    "\n",
    "Use the built in function plot_optional() to see an example visualization."
   ]
  },
  {
   "cell_type": "code",
   "execution_count": 31,
   "id": "d9d839bc",
   "metadata": {},
   "outputs": [],
   "source": [
    "def plot_optional():\n",
    "    import matplotlib as plt\n",
    "    %matplotlib inline\n",
    "    Top15 = answer_one()\n",
    "    ax = Top15.plot(x='Rank', y='% Renewable', kind='scatter', \n",
    "                    c=['#e41a1c','#377eb8','#e41a1c','#4daf4a','#4daf4a','#377eb8','#4daf4a','#e41a1c',\n",
    "                       '#4daf4a','#e41a1c','#4daf4a','#4daf4a','#e41a1c','#dede00','#ff7f00'], \n",
    "                    xticks=range(1,16), s=6*Top15['2014']/10**10, alpha=.75, figsize=[16,6]);\n",
    "\n",
    "    for i, txt in enumerate(Top15.index):\n",
    "        ax.annotate(txt, [Top15['Rank'][i], Top15['% Renewable'][i]], ha='center')\n",
    "\n",
    "    print(\"This is an example of a visualization that can be created to help understand the data. \\\n",
    "This is a bubble chart showing % Renewable vs. Rank. The size of the bubble corresponds to the countries' \\\n",
    "2014 GDP, and the color corresponds to the continent.\")"
   ]
  },
  {
   "cell_type": "code",
   "execution_count": 32,
   "id": "5532c4e3",
   "metadata": {},
   "outputs": [
    {
     "name": "stdout",
     "output_type": "stream",
     "text": [
      "This is an example of a visualization that can be created to help understand the data. This is a bubble chart showing % Renewable vs. Rank. The size of the bubble corresponds to the countries' 2014 GDP, and the color corresponds to the continent.\n"
     ]
    },
    {
     "data": {
      "image/png": "[encoded data removed]",
      "text/plain": [
       "<Figure size 1600x600 with 1 Axes>"
      ]
     },
     "metadata": {},
     "output_type": "display_data"
    }
   ],
   "source": [
    "plot_optional()"
   ]
  }
 ],
 "metadata": {
  "kernelspec": {
   "display_name": "Python 3 (ipykernel)",
   "language": "python",
   "name": "python3"
  },
  "language_info": {
   "codemirror_mode": {
    "name": "ipython",
    "version": 3
   },
   "file_extension": ".py",
   "mimetype": "text/x-python",
   "name": "python",
   "nbconvert_exporter": "python",
   "pygments_lexer": "ipython3",
   "version": "3.9.13"
  }
 },
 "nbformat": 4,
 "nbformat_minor": 5
}
